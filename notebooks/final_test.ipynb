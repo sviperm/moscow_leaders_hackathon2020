{
 "metadata": {
  "language_info": {
   "codemirror_mode": {
    "name": "ipython",
    "version": 3
   },
   "file_extension": ".py",
   "mimetype": "text/x-python",
   "name": "python",
   "nbconvert_exporter": "python",
   "pygments_lexer": "ipython3",
   "version": "3.8.5-final"
  },
  "orig_nbformat": 2,
  "kernelspec": {
   "name": "python38564bitvenvdd105b6ec12c4b6c8026c3557b26630a",
   "display_name": "Python 3.8.5 64-bit ('venv')"
  }
 },
 "nbformat": 4,
 "nbformat_minor": 2,
 "cells": [
  {
   "cell_type": "code",
   "execution_count": 5,
   "metadata": {},
   "outputs": [],
   "source": [
    "import os\n",
    "import re\n",
    "import pandas as pd\n",
    "from tqdm.notebook import tqdm\n",
    "import subprocess\n",
    "from PIL import Image\n",
    "import numpy as np"
   ]
  },
  {
   "cell_type": "code",
   "execution_count": 8,
   "metadata": {},
   "outputs": [],
   "source": [
    "df = pd.read_csv('../dataset/SecretPart.csv', index_col=None)\n",
    "# df.head()"
   ]
  },
  {
   "cell_type": "code",
   "execution_count": 9,
   "metadata": {},
   "outputs": [],
   "source": [
    "def rename_file(num):\n",
    "    def fun(row):\n",
    "        row[0] = f'dataset/sample_{num}/{row[0]}'\n",
    "        row[0] = row[0].replace('.png', f'_s{num}.png')\n",
    "        return row\n",
    "    return fun\n",
    "\n",
    "def rename_expert_file(file_name):\n",
    "    file_name = 'dataset/Expert/' + file_name[:-4] + '_expert.png'\n",
    "    return file_name"
   ]
  },
  {
   "cell_type": "code",
   "execution_count": 10,
   "metadata": {},
   "outputs": [],
   "source": [
    "df_s1 = df.iloc[:,[0,1]]\n",
    "df_s1 = df_s1.rename(columns={\"Case\": \"pred_mask_path\", \"Sample 1\": \"review\"})\n",
    "df_s1['pred_mask_path'].apply(rename_expert_file)\n",
    "df_s1['true_mask_path'] = df_s1['pred_mask_path'].apply(rename_expert_file)\n",
    "df_s1 = df_s1.apply(rename_file(1), axis=1)\n",
    "df_s1 = df_s1[['true_mask_path', 'pred_mask_path', 'review']]\n",
    "\n",
    "df_s2 = df.iloc[:,[0,1]]\n",
    "df_s2 = df_s2.rename(columns={\"Case\": \"pred_mask_path\", \"Sample 1\": \"review\"})\n",
    "df_s2['true_mask_path'] = df_s2['pred_mask_path'].apply(rename_expert_file)\n",
    "df_s2 = df_s2.apply(rename_file(2), axis=1)\n",
    "df_s2 = df_s2[['true_mask_path', 'pred_mask_path', 'review']]\n",
    "\n",
    "df_s3 = df.iloc[:,[0,1]]\n",
    "df_s3 = df_s3.rename(columns={\"Case\": \"pred_mask_path\", \"Sample 1\": \"review\"})\n",
    "df_s3['true_mask_path'] = df_s3['pred_mask_path'].apply(rename_expert_file)\n",
    "df_s3 = df_s3.apply(rename_file(3), axis=1)\n",
    "df_s3 = df_s3[['true_mask_path', 'pred_mask_path', 'review']]"
   ]
  },
  {
   "cell_type": "code",
   "execution_count": 12,
   "metadata": {},
   "outputs": [],
   "source": [
    "new_df = pd.concat([df_s1, df_s2, df_s3]).reset_index(drop=True)"
   ]
  },
  {
   "cell_type": "code",
   "execution_count": 13,
   "metadata": {},
   "outputs": [
    {
     "output_type": "execute_result",
     "data": {
      "text/plain": [
       "                             true_mask_path  \\\n",
       "0    dataset/Expert/00011827_003_expert.png   \n",
       "1    dataset/Expert/00011925_072_expert.png   \n",
       "2    dataset/Expert/00012045_019_expert.png   \n",
       "3    dataset/Expert/00012094_040_expert.png   \n",
       "4    dataset/Expert/00012174_000_expert.png   \n",
       "..                                      ...   \n",
       "115  dataset/Expert/00019124_090_expert.png   \n",
       "116  dataset/Expert/00019495_004_expert.png   \n",
       "117  dataset/Expert/00019767_016_expert.png   \n",
       "118  dataset/Expert/00020000_000_expert.png   \n",
       "119  dataset/Expert/00020124_003_expert.png   \n",
       "\n",
       "                           pred_mask_path  review  \n",
       "0    dataset/sample_1/00011827_003_s1.png       3  \n",
       "1    dataset/sample_1/00011925_072_s1.png       5  \n",
       "2    dataset/sample_1/00012045_019_s1.png       1  \n",
       "3    dataset/sample_1/00012094_040_s1.png       5  \n",
       "4    dataset/sample_1/00012174_000_s1.png       4  \n",
       "..                                    ...     ...  \n",
       "115  dataset/sample_3/00019124_090_s3.png       5  \n",
       "116  dataset/sample_3/00019495_004_s3.png       2  \n",
       "117  dataset/sample_3/00019767_016_s3.png       4  \n",
       "118  dataset/sample_3/00020000_000_s3.png       2  \n",
       "119  dataset/sample_3/00020124_003_s3.png       4  \n",
       "\n",
       "[120 rows x 3 columns]"
      ],
      "text/html": "<div>\n<style scoped>\n    .dataframe tbody tr th:only-of-type {\n        vertical-align: middle;\n    }\n\n    .dataframe tbody tr th {\n        vertical-align: top;\n    }\n\n    .dataframe thead th {\n        text-align: right;\n    }\n</style>\n<table border=\"1\" class=\"dataframe\">\n  <thead>\n    <tr style=\"text-align: right;\">\n      <th></th>\n      <th>true_mask_path</th>\n      <th>pred_mask_path</th>\n      <th>review</th>\n    </tr>\n  </thead>\n  <tbody>\n    <tr>\n      <th>0</th>\n      <td>dataset/Expert/00011827_003_expert.png</td>\n      <td>dataset/sample_1/00011827_003_s1.png</td>\n      <td>3</td>\n    </tr>\n    <tr>\n      <th>1</th>\n      <td>dataset/Expert/00011925_072_expert.png</td>\n      <td>dataset/sample_1/00011925_072_s1.png</td>\n      <td>5</td>\n    </tr>\n    <tr>\n      <th>2</th>\n      <td>dataset/Expert/00012045_019_expert.png</td>\n      <td>dataset/sample_1/00012045_019_s1.png</td>\n      <td>1</td>\n    </tr>\n    <tr>\n      <th>3</th>\n      <td>dataset/Expert/00012094_040_expert.png</td>\n      <td>dataset/sample_1/00012094_040_s1.png</td>\n      <td>5</td>\n    </tr>\n    <tr>\n      <th>4</th>\n      <td>dataset/Expert/00012174_000_expert.png</td>\n      <td>dataset/sample_1/00012174_000_s1.png</td>\n      <td>4</td>\n    </tr>\n    <tr>\n      <th>...</th>\n      <td>...</td>\n      <td>...</td>\n      <td>...</td>\n    </tr>\n    <tr>\n      <th>115</th>\n      <td>dataset/Expert/00019124_090_expert.png</td>\n      <td>dataset/sample_3/00019124_090_s3.png</td>\n      <td>5</td>\n    </tr>\n    <tr>\n      <th>116</th>\n      <td>dataset/Expert/00019495_004_expert.png</td>\n      <td>dataset/sample_3/00019495_004_s3.png</td>\n      <td>2</td>\n    </tr>\n    <tr>\n      <th>117</th>\n      <td>dataset/Expert/00019767_016_expert.png</td>\n      <td>dataset/sample_3/00019767_016_s3.png</td>\n      <td>4</td>\n    </tr>\n    <tr>\n      <th>118</th>\n      <td>dataset/Expert/00020000_000_expert.png</td>\n      <td>dataset/sample_3/00020000_000_s3.png</td>\n      <td>2</td>\n    </tr>\n    <tr>\n      <th>119</th>\n      <td>dataset/Expert/00020124_003_expert.png</td>\n      <td>dataset/sample_3/00020124_003_s3.png</td>\n      <td>4</td>\n    </tr>\n  </tbody>\n</table>\n<p>120 rows × 3 columns</p>\n</div>"
     },
     "metadata": {},
     "execution_count": 13
    }
   ],
   "source": [
    "new_df"
   ]
  },
  {
   "cell_type": "code",
   "execution_count": 15,
   "metadata": {},
   "outputs": [],
   "source": [
    "import sys\n",
    "sys.path.insert(0, '..')"
   ]
  },
  {
   "cell_type": "code",
   "execution_count": 16,
   "metadata": {},
   "outputs": [],
   "source": [
    "from scripts.catboost_predict import get_models_by_names, predict"
   ]
  },
  {
   "cell_type": "code",
   "execution_count": 38,
   "metadata": {},
   "outputs": [],
   "source": [
    "models = get_models_by_names(\"cb_mae-0.5818.cbm\")"
   ]
  },
  {
   "cell_type": "code",
   "execution_count": 39,
   "metadata": {},
   "outputs": [],
   "source": [
    "y_pred = []\n",
    "for i, (true_mask_path, pred_mask_path, target) in new_df.iterrows():\n",
    "    pred = predict(models, '../' + true_mask_path, '../' + pred_mask_path)\n",
    "    y_pred.append(pred)"
   ]
  },
  {
   "cell_type": "code",
   "execution_count": 40,
   "metadata": {},
   "outputs": [],
   "source": [
    "from catboost.utils import eval_metric"
   ]
  },
  {
   "cell_type": "code",
   "execution_count": 41,
   "metadata": {},
   "outputs": [
    {
     "output_type": "execute_result",
     "data": {
      "text/plain": [
       "[1.7499991250000018]"
      ]
     },
     "metadata": {},
     "execution_count": 41
    }
   ],
   "source": [
    "eval_metric(new_df['review'].to_numpy(), y_pred, 'MAE')"
   ]
  },
  {
   "cell_type": "code",
   "execution_count": null,
   "metadata": {},
   "outputs": [],
   "source": []
  }
 ]
}